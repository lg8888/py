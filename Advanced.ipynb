{
 "cells": [
  {
   "cell_type": "raw",
   "metadata": {},
   "source": [
    "debugger:\n",
    "\n",
    "https://docs.python.org/3/library/pdb.html"
   ]
  },
  {
   "cell_type": "code",
   "execution_count": 2,
   "metadata": {},
   "outputs": [
    {
     "name": "stdout",
     "output_type": "stream",
     "text": [
      "[5, 4, 3, 2, 1]\n"
     ]
    }
   ],
   "source": [
    "# build-in functions : many build-in function has corresponding __???__() for custom class override\n",
    "# https://docs.python.org/3/library/functions.html#built-in-funcs\n",
    "\n",
    "# len --> __len__()\n",
    "\n",
    "# operator override\n",
    "# + --> __add__()\n",
    "# - --> __sub__()\n",
    "# * --> __mul__()\n",
    "# / --> __truediv__()\n",
    "# % --> __mod__()\n",
    "# < --> __lt__()\n",
    "# <= --> __le__()\n",
    "# > --> __gt__()\n",
    "# >= --> __ge__()\n",
    "# == --> __eq__()\n",
    "# != --> __ne__()"
   ]
  },
  {
   "cell_type": "code",
   "execution_count": 9,
   "metadata": {},
   "outputs": [
    {
     "name": "stdout",
     "output_type": "stream",
     "text": [
      "Derived.foo()\n",
      "Derived.foo()\n"
     ]
    }
   ],
   "source": [
    "# class \n",
    "# there's no private in Python. convention is to use \"_\" as prefix, if \"__\" as prefix, it's the same as _<class name>__<var name>\n",
    "\n",
    "class Base:\n",
    "    def foo(this): print(\"Base.foo\")\n",
    "    def bar(this): this.__myFoo()\n",
    "    __myFoo = foo\n",
    "       \n",
    "class Derived( Base ):\n",
    "    def foo(this): print(\"Derived.foo()\")\n",
    "    def bar(this): this.foo()\n",
    "\n",
    "d = Derived()\n",
    "d.bar()\n",
    "\n",
    "def printBase( base : Base ):\n",
    "    base.bar()\n",
    "    \n",
    "printBase(d)"
   ]
  },
  {
   "cell_type": "code",
   "execution_count": 11,
   "metadata": {},
   "outputs": [
    {
     "name": "stdout",
     "output_type": "stream",
     "text": [
      "D::__mro__ (<class '__main__.D'>, <class '__main__.Base'>, <class 'object'>)\n",
      "d.__dict__ :  {'_i': 1, '_Base__count': 1}\n",
      "d.__class__ :  <class '__main__.D'>\n",
      "D::__bases__ :  (<class '__main__.Base'>,)\n",
      "D::__name__ :  D  __qualname__ :  D\n"
     ]
    },
    {
     "ename": "AttributeError",
     "evalue": "'D' object has no attribute 'bar'",
     "output_type": "error",
     "traceback": [
      "\u001b[0;31m---------------------------------------------------------------------------\u001b[0m",
      "\u001b[0;31mAttributeError\u001b[0m                            Traceback (most recent call last)",
      "\u001b[0;32m<ipython-input-11-36c3c6e23807>\u001b[0m in \u001b[0;36m<module>\u001b[0;34m()\u001b[0m\n\u001b[1;32m     17\u001b[0m \u001b[0mprint\u001b[0m\u001b[0;34m(\u001b[0m\u001b[0;34m\"D::__bases__ : \"\u001b[0m\u001b[0;34m,\u001b[0m \u001b[0mD\u001b[0m\u001b[0;34m.\u001b[0m\u001b[0m__bases__\u001b[0m\u001b[0;34m)\u001b[0m\u001b[0;34m\u001b[0m\u001b[0m\n\u001b[1;32m     18\u001b[0m \u001b[0mprint\u001b[0m\u001b[0;34m(\u001b[0m\u001b[0;34m\"D::__name__ : \"\u001b[0m\u001b[0;34m,\u001b[0m \u001b[0mD\u001b[0m\u001b[0;34m.\u001b[0m\u001b[0m__name__\u001b[0m\u001b[0;34m,\u001b[0m \u001b[0;34m\" __qualname__ : \"\u001b[0m\u001b[0;34m,\u001b[0m \u001b[0mD\u001b[0m\u001b[0;34m.\u001b[0m\u001b[0m__qualname__\u001b[0m\u001b[0;34m)\u001b[0m\u001b[0;34m\u001b[0m\u001b[0m\n\u001b[0;32m---> 19\u001b[0;31m \u001b[0md\u001b[0m\u001b[0;34m.\u001b[0m\u001b[0mbar\u001b[0m\u001b[0;34m(\u001b[0m\u001b[0;34m)\u001b[0m\u001b[0;34m\u001b[0m\u001b[0m\n\u001b[0m",
      "\u001b[0;31mAttributeError\u001b[0m: 'D' object has no attribute 'bar'"
     ]
    }
   ],
   "source": [
    "# reflection\n",
    "class Base:\n",
    "    def __init__(this):\n",
    "        this._i = 1\n",
    "        this.__count += 1\n",
    "    __count = 0;          # will show up as _Base__count in __dict__\n",
    "        \n",
    "class D (Base):\n",
    "    def __init__(this):\n",
    "        Base.__init__(this)\n",
    "        \n",
    "print(\"D::__mro__\", D.__mro__)\n",
    "\n",
    "d = D()\n",
    "print(\"d.__dict__ : \", d.__dict__)\n",
    "print(\"d.__class__ : \", d.__class__)\n",
    "print(\"D::__bases__ : \", D.__bases__)\n",
    "print(\"D::__name__ : \", D.__name__, \" __qualname__ : \", D.__qualname__)\n"
   ]
  }
 ],
 "metadata": {
  "kernelspec": {
   "display_name": "Python 3",
   "language": "python",
   "name": "python3"
  },
  "language_info": {
   "codemirror_mode": {
    "name": "ipython",
    "version": 3
   },
   "file_extension": ".py",
   "mimetype": "text/x-python",
   "name": "python",
   "nbconvert_exporter": "python",
   "pygments_lexer": "ipython3",
   "version": "3.5.2"
  }
 },
 "nbformat": 4,
 "nbformat_minor": 2
}
