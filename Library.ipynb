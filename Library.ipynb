{
 "cells": [
  {
   "cell_type": "code",
   "execution_count": 10,
   "metadata": {},
   "outputs": [
    {
     "data": {
      "text/plain": [
       "'Hello lin, $'"
      ]
     },
     "execution_count": 10,
     "metadata": {},
     "output_type": "execute_result"
    }
   ],
   "source": [
    "# Template\n",
    "from string import Template\n",
    "t = Template('Hello $who $$')  # use ${who}_abc as needed \n",
    "t.substitute(who='guang')    # safe_substitue() will not raise error for missing substitue\n",
    "\n",
    "\n",
    "class MyTemp( Template ):    # change delimiter to % using subclass. just change delimiter doesn't work! (why?)\n",
    "    delimiter = \"%\"\n",
    "    \n",
    "t1 = MyTemp(\"Hello %who, $\")\n",
    "t1.delimiter = \"%\"\n",
    "t1.substitute(who=\"lin\")"
   ]
  },
  {
   "cell_type": "code",
   "execution_count": 22,
   "metadata": {},
   "outputs": [
    {
     "name": "stderr",
     "output_type": "stream",
     "text": [
      "WARNING:root:Warning:config file server.conf not found\n",
      "ERROR:root:Error occurred\n",
      "CRITICAL:root:Critical error -- shutting down\n"
     ]
    }
   ],
   "source": [
    "# logger writes to sys.stderr ( cout )\n",
    "import logging\n",
    "\n",
    "'''\n",
    "Level\tNumeric value\n",
    "CRITICAL\t50\n",
    "ERROR\t40\n",
    "WARNING\t30\n",
    "INFO\t20\n",
    "DEBUG\t10\n",
    "NOTSET\t0\n",
    "'''\n",
    "\n",
    "logging.getLogger().setLevel(logging.WARNING)  # suppress below WARNING , enum is CAP of function name\n",
    "logging.debug('Debugging information')  \n",
    "logging.info('Informational message')   \n",
    "logging.warning('Warning:config file %s not found', 'server.conf')\n",
    "logging.error('Error occurred')\n",
    "logging.critical('Critical error -- shutting down')\n"
   ]
  }
 ],
 "metadata": {
  "kernelspec": {
   "display_name": "Python 3",
   "language": "python",
   "name": "python3"
  },
  "language_info": {
   "codemirror_mode": {
    "name": "ipython",
    "version": 3
   },
   "file_extension": ".py",
   "mimetype": "text/x-python",
   "name": "python",
   "nbconvert_exporter": "python",
   "pygments_lexer": "ipython3",
   "version": "3.5.2"
  }
 },
 "nbformat": 4,
 "nbformat_minor": 2
}
