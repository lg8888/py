{
 "cells": [
  {
   "cell_type": "markdown",
   "metadata": {},
   "source": [
    "# this is based on Python tutorial [https://www.w3schools.com/python/default.asp]\n"
   ]
  },
  {
   "cell_type": "code",
   "execution_count": 410,
   "metadata": {},
   "outputs": [
    {
     "name": "stdout",
     "output_type": "stream",
     "text": [
      "101.03\n",
      "1 3 1000\n",
      "True True\n",
      "default value\n"
     ]
    }
   ],
   "source": [
    "# literal types\n",
    "''' \n",
    "    multi-line comments\n",
    "'''\n",
    "x=str(10)  # a string\n",
    "y=float(1)\n",
    "z=int(\"3\")\n",
    "print(x + str(y) + str(z))\n",
    "\n",
    "mod = 10 % 3    # 1\n",
    "floor = 10 // 3 # 3\n",
    "exp = 10 ** 3   # 1000\n",
    "print(mod, floor, exp)\n",
    "\n",
    "# boolean expressions has shortcut rule as c++. i.e. \" a and b \" will only evaluate b when a is true\n",
    "# priority: not > and > or\n",
    "b1 = True   # other than False, everything else is true\n",
    "b2 = False  # considered false: False, None, 0, 0j, '', and empty containers , or custom type with __bool__()\n",
    "b3 = not True or True  # true: \"not\" has higher priority than \"or\"\n",
    "b4 = True and True or False and False # true: \"and\" has higher priority than \"or\"\n",
    "print(b3, b4)\n",
    "\n",
    "s1 = str('') or \"default value\"  #result of boolean expression is the last value instead of True or False !\n",
    "print(s1)\n"
   ]
  },
  {
   "cell_type": "code",
   "execution_count": 390,
   "metadata": {},
   "outputs": [
    {
     "name": "stdout",
     "output_type": "stream",
     "text": [
      "['hello', 2, 3]\n",
      "0 hello\n",
      "1 2\n",
      "2 3\n",
      "yes\n",
      "['hello', 0, 2, 3, 4, 5, 4, 6, 7, 8, 9]\n",
      "index of '0': 1\n",
      "\n",
      "removed: [0, 5, 4, 6, 7, 8]\n",
      "[4, 6]\n",
      "l2: ['h', 'e', 'l', 'l', 'o']\n",
      "sorted: [1, 3, 5]\n"
     ]
    }
   ],
   "source": [
    "# list \n",
    "l = [1,2,3]\n",
    "l[0] = \"hello\"  # list can contain different types\n",
    "print(l)\n",
    "\n",
    "index = 0\n",
    "for i in l:\n",
    "    print(index, i)\n",
    "    index += 1  # don't have ++index ! how stupid\n",
    "    \n",
    "if 'hello' in l:\n",
    "    print(\"yes\")\n",
    "    \n",
    "# add items : append, extend, insert and +=\n",
    "l += [4,5,4]    # append\n",
    "l.append(6)     # or this\n",
    "l.extend(range(7,10)) # append an iterable\n",
    "l.insert(1, 0)  #insert number 0 at position \"1\"  \n",
    "print(l)\n",
    "print(\"index of '0':\", l.index(0))  # find\n",
    "\n",
    "# remove, pop\n",
    "l.remove(4)   # can only remove 1 element by value, if multiple match, only remove first\n",
    "l.pop()       # remove last item\n",
    "l.pop(0)      # remove item at position \"0\"\n",
    "l[1:3] = []   # remove range [1,3)\n",
    "print(\"\\nremoved:\", l)\n",
    "# clear\n",
    "l.clear()\n",
    "\n",
    "# if done in c++ : l = List{ range(1,10), [](auto && x) { return x % 2 == 0; }}  // list class constructor with lamda as filter\n",
    "# or l = range(1,10) -> [](auto && x) { return x % 2 == 0; }  // overload \"->\" for iteratable type\n",
    "l = [x for x in range(1,10) if x % 2 == 0 and 3 < x < 8] \n",
    "print(l)\n",
    "l2 = list('hello')\n",
    "print(\"l2:\", l2)\n",
    "\n",
    "\n",
    "# other methods:\n",
    "l.copy()   # clone\n",
    "l.count(1)  # count for element same as std::set::count()\n",
    "l = [1,5,3]\n",
    "l.sort()\n",
    "print(\"sorted:\", l)\n",
    "l.reverse()"
   ]
  },
  {
   "cell_type": "code",
   "execution_count": 144,
   "metadata": {},
   "outputs": [
    {
     "name": "stdout",
     "output_type": "stream",
     "text": [
      "(1, 2, 3, 3)  has  4  items. 2 is at [ 1 ] and it has  2  '3'\n"
     ]
    }
   ],
   "source": [
    "# tuple is unchangeable list\n",
    "t = (1 , 2, 3, 3)\n",
    "print( t, \" has \", len(t) , \" items. 2 is at [\", t.index(2), \"] and it has \", t.count(3), \" '3'\")"
   ]
  },
  {
   "cell_type": "code",
   "execution_count": 177,
   "metadata": {},
   "outputs": [
    {
     "name": "stdout",
     "output_type": "stream",
     "text": [
      "{200, 1, 3, 'apple'}\n",
      "{1, 2, 3, 4, 5, 6, 7, 200, 8, 9, 'apple'}\n",
      "{1, 2, 3, 4, 5, 6, 7, 8, 9, 'apple'}\n",
      "{5}\n",
      "{1, 3}\n",
      "{1, 3, 5, 7}\n",
      "{5}\n"
     ]
    }
   ],
   "source": [
    "# set is unordered_set, as in c++, items in it are not changeable\n",
    "set1 = {1, 200, 3, 'apple'}  # set is created with { }\n",
    "print(set1)\n",
    "\n",
    "# add  \n",
    "set1.add(5)  # how stupid not to use \"insert\" ?\n",
    "# add multiple from an iterable\n",
    "set1.update([4, 5, 6])  # python doesn't support overload ?\n",
    "set1.update( range(1,10) )  # duplicated items will not be added \n",
    "print(set1)\n",
    "\n",
    "# remove\n",
    "set1.remove(200)    # NOTE: if \"5\" doesn't exist, remove will raise error !!!\n",
    "# discard\n",
    "set1.discard(\"i don't exist\")  # remove if exist\n",
    "print(set1)\n",
    "\n",
    "# some standard set operations: diff, union, intersect\n",
    "set1 = { 1, 3, 5 }\n",
    "set2 = { 1, 3, 7 }\n",
    "print(set1.difference(set2) )\n",
    "print(set1.intersection(set2))\n",
    "print(set1.union(set2))\n",
    "print(set1 - set2)  # same as difference , but no \"+\" for union, or \"&\" for intersection, stupid ! "
   ]
  },
  {
   "cell_type": "code",
   "execution_count": 451,
   "metadata": {},
   "outputs": [
    {
     "name": "stdout",
     "output_type": "stream",
     "text": [
      "apple\n",
      "orange\n",
      "tree\n",
      "index: 1   apple\n",
      "index: 2   orange\n",
      "index: 3   tree\n",
      "key: two\n",
      "key: one\n",
      "{1: 'apple', 2: 'orange', 3: 'tree', 4: 'water'} water stone\n"
     ]
    }
   ],
   "source": [
    "# dictionary is unordered_map, and is indexed\n",
    "dict = { 1:'apple', 2:'orange', 3:'tree'}\n",
    "\n",
    "# access data: keys(), values(), items()\n",
    "\n",
    "# iteration\n",
    "for fruit in dict.values():\n",
    "    print(fruit)\n",
    "    \n",
    "for index, fruit in dict.items():         # in c++: for( auto const & [k, v] : dict)\n",
    "    print(\"index:\", index, \" \", fruit)\n",
    "    \n",
    "   \n",
    "# find\n",
    "water = dict.setdefault(4, \"water\")     # setdefault will insert if key doesn't exist\n",
    "stone = dict.get(5, \"stone\")            # get() will not insert\n",
    "print(dict, water, stone)\n",
    "\n",
    "# remove  why can't set and dictionary use consistent function names ??? stupid API !!!\n",
    "none = dict.pop(5, None)  # provide default value to avoie raising error if key doesn't exist\n"
   ]
  },
  {
   "cell_type": "code",
   "execution_count": 39,
   "metadata": {},
   "outputs": [
    {
     "name": "stdout",
     "output_type": "stream",
     "text": [
      "False\n",
      "False\n",
      "True\n",
      "id(x): 140626294890824 id(x2): 140626294890824\n",
      "True\n",
      "id(x): 140626294890824 id(x2): 140626294891384\n",
      "True\n"
     ]
    }
   ],
   "source": [
    "# expressions\n",
    "x = str(10)\n",
    "print( x is \"10\")  #false: \"is\" refers to object instance\n",
    "x1 = str(10)\n",
    "print( x is x1 )  #false: x and x1 are not the same object\n",
    "print( x == x1 )  #true: x and x1 are equal\n",
    "x2 = x \n",
    "print(\"id(x):\", id(x), \"id(x2):\", id(x2))\n",
    "print( x is x2 )  #true: x2 is alias of x, until you change it ( copy-on-write optimization )\n",
    "x2 += \"abc\"\n",
    "print(\"id(x):\", id(x), \"id(x2):\", id(x2))\n",
    "\n",
    "print( 3 > 2 >= 2 > 0)  # can be chained !\n"
   ]
  },
  {
   "cell_type": "code",
   "execution_count": null,
   "metadata": {},
   "outputs": [],
   "source": [
    "# sepcial expressions : is, \"is not\" , in, \"not in\"\n",
    "# is uses id() to check if object is the same instance\n",
    "# in uses __contains__() to test "
   ]
  },
  {
   "cell_type": "code",
   "execution_count": 449,
   "metadata": {},
   "outputs": [
    {
     "name": "stdout",
     "output_type": "stream",
     "text": [
      "string:012345,6789 \n",
      "first 0 \n",
      "last 9 \n",
      "substr [1,3]: 12\n",
      "strip: 234,5678\n",
      "['1', '2', '3']\n",
      "['', '1', '2', '', '', '3', '', '']\n",
      " 1 replaced 3   replaced \n",
      "a-b-c\n",
      "1-3-5\n"
     ]
    }
   ],
   "source": [
    "#string operations\n",
    "a=\"012345,6789\"\n",
    "first = a[0]\n",
    "last = a[-1]\n",
    "subStr = a[1:3] #slice : [1, 3)  end is not included\n",
    "print (\"string:\" + a, \"\\nfirst\", first, \"\\nlast\", last, \"\\nsubstr [1,3]:\" , subStr)\n",
    "\n",
    "#commonly used functions\n",
    "# strip\n",
    "length = len(a)\n",
    "stripped = \"01234,56789\".strip('0197')  # will strip leading and trailing chars in the set\n",
    "print(\"strip:\" , stripped)\n",
    "\n",
    "# split\n",
    "print(\" 1 2   3 \".split())    #by default all spaces are stripped\n",
    "print(\" 1 2   3  \".split(' '))  #now ' ' are included in the result\n",
    "\n",
    "# replace\n",
    "print(\" 1#3  #\".replace(\"#\",\" replaced \"))  \n",
    "\n",
    "# join\n",
    "print(\"-\".join([\"a\", \"b\", \"c\"])) # note: there's no leading join string\n",
    "print(\"-\".join([ str(x) for x in [1,3,5]])) # transfer int to string before joining"
   ]
  },
  {
   "cell_type": "code",
   "execution_count": 182,
   "metadata": {},
   "outputs": [
    {
     "name": "stdout",
     "output_type": "stream",
     "text": [
      "id: 10919712 hash: 10 type: <class 'int'>\n"
     ]
    }
   ],
   "source": [
    "# object concepts\n",
    "x = 10\n",
    "print(\"id:\", id(x), \"hash:\", hash(x), \"type:\", type(x))\n",
    "del x   # undefine x. i.e. x is no long a valid name after del\n",
    "\n"
   ]
  },
  {
   "cell_type": "code",
   "execution_count": 201,
   "metadata": {},
   "outputs": [
    {
     "name": "stdout",
     "output_type": "stream",
     "text": [
      "C\n",
      "3\n",
      "i= 3\n",
      "0\n",
      "1\n"
     ]
    }
   ],
   "source": [
    "# flow controls\n",
    "\n",
    "# if ... else \n",
    "print(\"A\") if 1 > 2 else print(\"B\") if 2 > 3 else print (\"C\")  # this syntax is stupid, and should not be used !\n",
    "\n",
    "# normal if syntax:\n",
    "if 1 > 2 :\n",
    "    print( 1 )\n",
    "elif 2 > 3 :\n",
    "    print( 2 )\n",
    "else:\n",
    "    print( 3 )\n",
    "    \n",
    "# while loop\n",
    "i = 1\n",
    "while i < 10:\n",
    "    i += 1\n",
    "    if i == 3:\n",
    "        print(\"i=\", i)\n",
    "        break\n",
    "    else:\n",
    "        continue\n",
    "    \n",
    "# for loop is really just iteration loop\n",
    "\n",
    "for i in range(4):   # loop [ 0, 4 )\n",
    "    if i == 2 :\n",
    "        continue\n",
    "    elif i == 3:\n",
    "        break\n",
    "    else:\n",
    "        print(i)\n",
    "else:                 # else of for loop is only executed when loop is not break-out \n",
    "    print(\"end of loop. i:\", i)    "
   ]
  },
  {
   "cell_type": "code",
   "execution_count": 387,
   "metadata": {},
   "outputs": [
    {
     "name": "stdout",
     "output_type": "stream",
     "text": [
      "hi,  10\n",
      "Help on function foo in module __main__:\n",
      "\n",
      "foo(who='???')\n",
      "    this is documentation string\n",
      "         and it's pre-formated.\n",
      "      use help(foo) or foo.__doc__ to show.\n",
      "\n",
      "bar.__annotations__: {'return': <class 'str'>, 'what': <class 'str'>}\n",
      "Help on function bar in module __main__:\n",
      "\n",
      "bar(what:str, thisWillNotShowUpInAnnotations=None) -> str\n",
      "\n",
      "\n",
      "sort with lambda: [(2, 'abc'), (1, 'org')] \n",
      "\n",
      "args: (1, 2)\n",
      "kwargs: x = 10\n",
      "kwargs: y = apple\n",
      "args: (100, 200)\n",
      "kwargs: sep = >\n",
      "kwargs: basket = ['apple', 'orange']\n",
      "foo: apple>orange\n",
      "guang 40\n",
      "hello, my name is guang\n",
      "hello, my name is lin\n"
     ]
    }
   ],
   "source": [
    "# function and classes\n",
    "\n",
    "def foo( who = \"???\"):       # who is a typed and named arg,\n",
    "    \"\"\" \n",
    "    this is documentation string\n",
    "         and it's pre-formated.\n",
    "      use help(foo) or foo.__doc__ to show.\n",
    "    \"\"\"\n",
    "    print(\"hi, \", str(who))\n",
    "    return who\n",
    "\n",
    "foo(10)\n",
    "help(foo)\n",
    "\n",
    "def bar( what:str, thisWillNotShowUpInAnnotations = None ) -> str:\n",
    "    print(\"bar.__annotations__:\", bar.__annotations__)  # only shows typed args\n",
    "    return what\n",
    "\n",
    "bar(\"hi\")\n",
    "help(bar)  # shows function spec as default __doc__\n",
    "\n",
    "# lambda arguments : expression\n",
    "# lambda can have only 1 expression, how useful is that ? stupid !\n",
    "x = lambda a, b : a + b\n",
    "x(3,4)\n",
    "\n",
    "nums=[(1, \"org\"), (2, \"abc\")]\n",
    "nums.sort(key = lambda pair : pair[1])\n",
    "print(\"\\nsort with lambda:\", nums, \"\\n\")\n",
    "\n",
    "# access named arguments, using * and ** in function def\n",
    "def whatArgs(*args, **kwargs):\n",
    "    print(\"args:\", args)         # all sequential args as tuple\n",
    "    for kw in kwargs:            # all named args as dict\n",
    "        print(\"kwargs:\", kw, \"=\", kwargs[kw])\n",
    "        \n",
    "whatArgs(1, 2, x=10, y=\"apple\")\n",
    "\n",
    "# unpack dict to named args, using * and ** at call site\n",
    "args = { \"sep\": \">\", \"basket\":[\"apple\", \"orange\"]}\n",
    "unamed = [100, 200]\n",
    "whatArgs(*unamed, **args)\n",
    "\n",
    "def foo(sep=\".\", basket=[]):\n",
    "    print(\"foo:\", sep.join(basket))\n",
    "    \n",
    "foo(**args)  # \"**\" unpack dict to named args, must not contain unknown arg\n",
    "\n",
    "# class\n",
    "\n",
    "class Person:\n",
    "    def __init__(this, name , age):                 # constructor: first parameter is \"this\", thus is normally named \"self\"\n",
    "        this._name, this._age = name, age\n",
    "    \n",
    "    def hello(self):                                # all member functions's 1st parameter is \"this\", name doesn't matter\n",
    "        print(\"hello, my name is\", self._name)\n",
    "        \n",
    "a = Person(\"guang\", 40)\n",
    "print(a._name, a._age)\n",
    "a.hello()\n",
    "\n",
    "# del can remove properties from an instance, but not from class definition\n",
    "del a._name\n",
    "b = Person(\"lin\", 40)\n",
    "b.hello()"
   ]
  },
  {
   "cell_type": "code",
   "execution_count": 20,
   "metadata": {},
   "outputs": [
    {
     "name": "stdout",
     "output_type": "stream",
     "text": [
      "apple\n",
      "orange\n",
      "melon\n",
      "embeded iterator: 3\n",
      "whatever\n",
      "2\n",
      "<class '__main__.Basket2'>\n",
      "yes\n"
     ]
    }
   ],
   "source": [
    "# iteration\n",
    "class Basket:\n",
    "    s_count = 0           # static variable\n",
    "    def __init__(this):\n",
    "        this._basket = []\n",
    "        this.s_count += 1 # even static variable must be referred with this\n",
    "        \n",
    "    def add(this, what):\n",
    "        this._basket.append(what)\n",
    "        return this\n",
    "        \n",
    "    def __iter__(this):  # _i is created inside Basket !!! how stupid it is to embed iterator inside container !!!\n",
    "        this._i = 0\n",
    "        return this\n",
    "    \n",
    "    def __next__(this):\n",
    "        if this._i < len(this._basket):\n",
    "            this._i += 1\n",
    "            return this._basket[this._i - 1]\n",
    "        else:\n",
    "            raise StopIteration   # raise StopIteration !!! why raise? exception to exit? why StopIteration ? none-sense\n",
    "\n",
    "basket = Basket()\n",
    "basket.add(\"apple\").add(\"orange\").add(\"melon\")\n",
    "\n",
    "for fruit in basket:\n",
    "    print( fruit )\n",
    "    \n",
    "print(\"embeded iterator:\", basket._i)   # this is idiotic design !!!    \n",
    "\n",
    "del basket\n",
    "\n",
    "# another way to iterate:\n",
    "\n",
    "b2 = Basket()\n",
    "b2.add(\"apple\").add(\"whatever\")\n",
    "it = iter(b2)   # this \"iter()\" just call __iter__() to init iteration state\n",
    "next(it)        # skip apple    just call __next__() to advance iterator\n",
    "print(next(it)) # print whatever\n",
    "print(b2._i)\n",
    "class Basket2( Basket, int):   # ok to derive from primary types\n",
    "    def __init__(this):\n",
    "        Basket.__init__(this)  # MUST explicitly call base::__init__ !!!\n",
    "\n",
    "b3 = Basket2()               # b3 += 1 will convert b3 into float !!!\n",
    "print(b3.__class__)\n",
    "print(\"yes\") if isinstance(b3, Basket) else print (\"no\")\n"
   ]
  },
  {
   "cell_type": "code",
   "execution_count": 261,
   "metadata": {},
   "outputs": [
    {
     "data": {
      "text/plain": [
       "'Linux'"
      ]
     },
     "execution_count": 261,
     "metadata": {},
     "output_type": "execute_result"
    }
   ],
   "source": [
    "# module\n",
    "import platform as sys\n",
    "sys.system()\n",
    "\n",
    "from platform import system # this is like import, then \"using platform::system\" otherwise you would need to call platform.system\n",
    "system()  # now it's in current namespace\n",
    "\n"
   ]
  },
  {
   "cell_type": "code",
   "execution_count": 275,
   "metadata": {},
   "outputs": [
    {
     "name": "stdout",
     "output_type": "stream",
     "text": [
      "New York\n",
      "{\n",
      "    \"age\" = 30,\n",
      "    \"city\" = \"New York\",\n",
      "    \"name\" = \"John\"\n",
      "}\n",
      "{\"age\": 30, \"name\": \"John\"}\n",
      "[\"apple\", \"bananas\"]\n",
      "[\"apple\", \"bananas\"]\n",
      "\"hello\"\n",
      "42\n",
      "31.76\n",
      "true\n",
      "false\n",
      "null\n"
     ]
    }
   ],
   "source": [
    "# jason\n",
    "import json\n",
    "\n",
    "# from string to JSON\n",
    "x =  '{ \"name\":\"John\", \"age\":30, \"city\":\"New York\"}'\n",
    "y = json.loads(x)\n",
    "print(y['city'])\n",
    "\n",
    "# from dict to JSON\n",
    "x = {\n",
    "  \"name\": \"John\",\n",
    "  \"age\": 30,\n",
    "  \"city\": \"New York\"\n",
    "}\n",
    "\n",
    "y = json.dumps(x, indent=4, separators=(\",\", \" = \"), sort_keys=True)   # now y is a JSON object with lots of functions\n",
    "print(y)\n",
    "# type mapping between Python and JSON:\n",
    "print(json.dumps({\"name\": \"John\", \"age\": 30}))   # Object\n",
    "print(json.dumps([\"apple\", \"bananas\"]))          # Array\n",
    "print(json.dumps((\"apple\", \"bananas\")))          # Array\n",
    "print(json.dumps(\"hello\"))      # String\n",
    "print(json.dumps(42))           # Number\n",
    "print(json.dumps(31.76))        # Number\n",
    "print(json.dumps(True))         # true\n",
    "print(json.dumps(False))        # false\n",
    "print(json.dumps(None))         # null"
   ]
  },
  {
   "cell_type": "code",
   "execution_count": 300,
   "metadata": {},
   "outputs": [
    {
     "name": "stdout",
     "output_type": "stream",
     "text": [
      "Spain\n",
      "(12, 17)\n"
     ]
    }
   ],
   "source": [
    "# regular expression\n",
    "import re\n",
    "txt = \"The rain in Spain Stop \"\n",
    "x = re.search(\"^The.*Spain$\", txt)   \n",
    "x = re.search(r\"\\bS\\w+\", txt)        # match word starts with 'S'\n",
    "print(x.group())                     # group() returns the matching portion\n",
    "print(x.span())                      # span() returns (start, end) position"
   ]
  },
  {
   "cell_type": "code",
   "execution_count": 339,
   "metadata": {},
   "outputs": [
    {
     "name": "stdout",
     "output_type": "stream",
     "text": [
      "fist line\n",
      "\n",
      "second line\n",
      "removing file: demofile.txt\n"
     ]
    }
   ],
   "source": [
    "# file operations\n",
    "del f\n",
    "name = \"demofile.txt\"\n",
    "f = open(name, \"w\")\n",
    "f.write(\"fist line\")\n",
    "f.write(\"\\nsecond line\")\n",
    "f.close()\n",
    "\n",
    "try:\n",
    "  f = open(name, \"rt\")# can open with r:read, w:write, a:append, x:create, t:Text mode, b:binary mode, default is \"rt\"\n",
    "  #what = f.read(5)             # read only 10 chars, if not set, all content\n",
    "  #line = f.readline()          # read 1 line\n",
    "  for line in f:\n",
    "        print(line)             # iterate all lines\n",
    "        \n",
    "  #f.write(\"Lorum Ipsum\")\n",
    "except NameError:\n",
    "  print(\"Variable x is not defined\")\n",
    "except:\n",
    "  print(\"Something went wrong when writing to the file\")\n",
    "finally:\n",
    "  if f: f.close()\n",
    "    \n",
    "import os\n",
    "if os.path.exists(name):\n",
    "  print(\"removing file:\", name)\n",
    "  os.remove(name)"
   ]
  },
  {
   "cell_type": "code",
   "execution_count": 409,
   "metadata": {},
   "outputs": [
    {
     "name": "stdout",
     "output_type": "stream",
     "text": [
      "2019-01-15 22:19:53.166653\n",
      "20190115\n",
      "2019-01-01 13:01:02.123456\n",
      "Jan 01, 2019 13:01:02.123456 \n",
      "01/01/19 13:01:02\n"
     ]
    }
   ],
   "source": [
    "# Date\n",
    "import datetime as dt\n",
    "now = dt.datetime.now()\n",
    "print(now)\n",
    "\n",
    "date = now.year*10000 + now.month*100 + now.day\n",
    "print(date)\n",
    "\n",
    "date2 = dt.datetime(2019, 1, 1, 13, 1, 2, 123456)\n",
    "print(date2)\n",
    "print(date2.strftime(\"%b %d, %Y %H:%M:%S.%f \"))  \n",
    "print(date2.strftime(\"%x %X\"))         # local date (%x) and time format(%X)"
   ]
  },
  {
   "cell_type": "code",
   "execution_count": 1,
   "metadata": {},
   "outputs": [
    {
     "name": "stdout",
     "output_type": "stream",
     "text": [
      "After local assignment: test spam\n",
      "After nonlocal assignment: nonlocal spam\n",
      "After global assignment: nonlocal spam\n",
      "In global scope: global spam\n"
     ]
    }
   ],
   "source": [
    "# scopes of variables\n",
    "def scope_test():\n",
    "    def do_local():\n",
    "        spam = \"local spam\"    # local to the function\n",
    "\n",
    "    def do_nonlocal():\n",
    "        nonlocal spam          # caller scope  -> like lambda capture in c++ ?\n",
    "        spam = \"nonlocal spam\"\n",
    "\n",
    "    def do_global():           # global scope is module-level, if doesn't exist, will create one\n",
    "        global spam\n",
    "        spam = \"global spam\"\n",
    "\n",
    "    spam = \"test spam\"\n",
    "    do_local()\n",
    "    print(\"After local assignment:\", spam)\n",
    "    do_nonlocal()\n",
    "    print(\"After nonlocal assignment:\", spam)\n",
    "    do_global()\n",
    "    print(\"After global assignment:\", spam)   # global scope\n",
    "\n",
    "scope_test()\n",
    "print(\"In global scope:\", spam)  # a global scope spam instance was created"
   ]
  }
 ],
 "metadata": {
  "kernelspec": {
   "display_name": "Python 3",
   "language": "python",
   "name": "python3"
  },
  "language_info": {
   "codemirror_mode": {
    "name": "ipython",
    "version": 3
   },
   "file_extension": ".py",
   "mimetype": "text/x-python",
   "name": "python",
   "nbconvert_exporter": "python",
   "pygments_lexer": "ipython3",
   "version": "3.5.2"
  }
 },
 "nbformat": 4,
 "nbformat_minor": 2
}
